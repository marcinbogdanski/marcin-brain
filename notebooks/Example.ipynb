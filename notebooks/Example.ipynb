{
 "cells": [
  {
   "cell_type": "markdown",
   "metadata": {},
   "source": [
    "# Header 1"
   ]
  },
  {
   "cell_type": "markdown",
   "metadata": {},
   "source": [
    "## Sub-header"
   ]
  },
  {
   "cell_type": "markdown",
   "metadata": {},
   "source": [
    "<!---->\n",
    "\n",
    "**Example question goes here**\n",
    "\n",
    "Some good and clear answer goes here\n",
    "\n",
    "* maybe a bullet point\n",
    "* or make it two\n",
    "* add some dollar signs \\\\$10 and \\\\$20 usd\n",
    "* bullet with $x = 4$ math and $x = 5$ more math\n",
    "\n",
    "$$ x = 2^4 $$\n",
    "\n",
    "$$ y = 1^3 $$\n",
    "\n",
    "```python\n",
    "def example_code():\n",
    "    return 'hohoho'\n",
    "```\n"
   ]
  },
  {
   "cell_type": "markdown",
   "metadata": {},
   "source": [
    "<!---->\n",
    "\n",
    "**Another question goes here**\n",
    "\n",
    "Another good and clear answer goes here\n",
    "\n",
    "* maybe a bullet point\n",
    "* or make it two\n",
    "* bullet with $x = 4$ math\n",
    "\n",
    "$$ x = 2^4 $$\n",
    "\n",
    "```python\n",
    "def example_code():\n",
    "    return 'hohoho'\n",
    "```"
   ]
  },
  {
   "cell_type": "markdown",
   "metadata": {},
   "source": [
    "fdaf\n",
    "\n",
    "fdaf $$ x = 3 $$ fasf \n",
    "\n",
    "fsdaf"
   ]
  },
  {
   "cell_type": "code",
   "execution_count": null,
   "metadata": {},
   "outputs": [],
   "source": []
  }
 ],
 "metadata": {
  "kernelspec": {
   "display_name": "Python 3",
   "language": "python",
   "name": "python3"
  },
  "language_info": {
   "codemirror_mode": {
    "name": "ipython",
    "version": 3
   },
   "file_extension": ".py",
   "mimetype": "text/x-python",
   "name": "python",
   "nbconvert_exporter": "python",
   "pygments_lexer": "ipython3",
   "version": "3.7.3"
  }
 },
 "nbformat": 4,
 "nbformat_minor": 2
}
