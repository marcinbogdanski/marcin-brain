{
 "cells": [
  {
   "cell_type": "markdown",
   "metadata": {},
   "source": [
    "# Imports"
   ]
  },
  {
   "cell_type": "code",
   "execution_count": 1,
   "metadata": {},
   "outputs": [],
   "source": [
    "%load_ext autoreload\n",
    "%autoreload 2"
   ]
  },
  {
   "cell_type": "code",
   "execution_count": 2,
   "metadata": {},
   "outputs": [],
   "source": [
    "import os\n",
    "import re\n",
    "import sys\n",
    "import json\n",
    "\n",
    "import nbformat\n",
    "import nbconvert"
   ]
  },
  {
   "cell_type": "code",
   "execution_count": 3,
   "metadata": {},
   "outputs": [],
   "source": [
    "module_path = os.path.abspath(os.path.join('..'))\n",
    "if module_path not in sys.path:\n",
    "    sys.path.append(module_path)\n",
    "\n",
    "import mbrain as mb"
   ]
  },
  {
   "cell_type": "markdown",
   "metadata": {},
   "source": [
    "# Development"
   ]
  },
  {
   "cell_type": "code",
   "execution_count": 4,
   "metadata": {},
   "outputs": [],
   "source": [
    "with open('Example.ipynb') as f:\n",
    "    # nb = json.load(f)\n",
    "    nb = nbformat.read(f, as_version=4)"
   ]
  },
  {
   "cell_type": "code",
   "execution_count": null,
   "metadata": {},
   "outputs": [],
   "source": [
    "nb"
   ]
  },
  {
   "cell_type": "code",
   "execution_count": null,
   "metadata": {},
   "outputs": [],
   "source": []
  },
  {
   "cell_type": "code",
   "execution_count": 6,
   "metadata": {},
   "outputs": [],
   "source": [
    "cell = nb['cells'][2].copy()"
   ]
  },
  {
   "cell_type": "code",
   "execution_count": 7,
   "metadata": {},
   "outputs": [
    {
     "data": {
      "text/plain": [
       "True"
      ]
     },
     "execution_count": 7,
     "metadata": {},
     "output_type": "execute_result"
    }
   ],
   "source": [
    "mb.utils.is_flashcard(nb['cells'][2])"
   ]
  },
  {
   "cell_type": "code",
   "execution_count": null,
   "metadata": {},
   "outputs": [],
   "source": []
  },
  {
   "cell_type": "code",
   "execution_count": 8,
   "metadata": {},
   "outputs": [],
   "source": [
    "source = cell.source"
   ]
  },
  {
   "cell_type": "code",
   "execution_count": 77,
   "metadata": {},
   "outputs": [],
   "source": [
    "# This regex matches pattern:   <!--some text here-->\n",
    "#\n",
    "#                  v----------- pattern:   <!--\n",
    "#                  | v--------- dot: matches any character except line break\n",
    "#                  | |v-------- star: match zero or more of preceeding token\n",
    "#                  | ||v------- lazy: make preceeding quantifier match as few characters as possible\n",
    "#                vvvv|||vvv---- pattern:   -->\n",
    "pattern_meta = r'<!--.*?-->'\n",
    "\n",
    "def find_meta(string):\n",
    "    meta = re.findall(pattern_meta, string)\n",
    "    return meta[0]\n",
    "\n",
    "def remove_meta(string):\n",
    "    new_string = re.sub(pattern_meta, '', string)\n",
    "    return new_string"
   ]
  },
  {
   "cell_type": "code",
   "execution_count": 78,
   "metadata": {},
   "outputs": [],
   "source": [
    "# This regex matches pattern:   **some text here**\n",
    "#\n",
    "#                  v----------- pattern:   ** \n",
    "#                  | v--------- dot: matches any character except line break\n",
    "#                  | |v-------- star: match zero or more of preceeding token\n",
    "#                  | ||v------- lazy: make preceeding quantifier match as few characters as possible\n",
    "#                vvvv|||vvvv--- pattern:   **\n",
    "pattern_head = r'\\*\\*.*?\\*\\*'\n",
    "\n",
    "def find_head(string):\n",
    "    meta = re.findall(pattern_head, string)\n",
    "    return meta[0]\n",
    "\n",
    "def remove_head(string):\n",
    "    new_string = re.sub(pattern_head, '', string)\n",
    "    return new_string"
   ]
  },
  {
   "cell_type": "code",
   "execution_count": 10,
   "metadata": {},
   "outputs": [
    {
     "data": {
      "text/plain": [
       "'<!---->'"
      ]
     },
     "execution_count": 10,
     "metadata": {},
     "output_type": "execute_result"
    }
   ],
   "source": [
    "meta = find_meta(source)\n",
    "meta"
   ]
  },
  {
   "cell_type": "code",
   "execution_count": 11,
   "metadata": {},
   "outputs": [],
   "source": [
    "source = remove_meta(source)"
   ]
  },
  {
   "cell_type": "code",
   "execution_count": 12,
   "metadata": {},
   "outputs": [],
   "source": [
    "head = find_head(source)"
   ]
  },
  {
   "cell_type": "code",
   "execution_count": 13,
   "metadata": {},
   "outputs": [],
   "source": [
    "source = remove_head(source)"
   ]
  },
  {
   "cell_type": "code",
   "execution_count": 14,
   "metadata": {},
   "outputs": [],
   "source": [
    "source = source.strip()"
   ]
  },
  {
   "cell_type": "code",
   "execution_count": 15,
   "metadata": {},
   "outputs": [
    {
     "name": "stdout",
     "output_type": "stream",
     "text": [
      "Some good and clear answer goes here\n",
      "\n",
      "* maybe a bullet point\n",
      "* or make it two\n",
      "* add some dollar signs \\\\$10 and \\\\$20 usd\n",
      "* bullet with $x = 4$ math and $x = 5$ more math\n",
      "\n",
      "$$ x = 2^4 $$\n",
      "\n",
      "$$ y = 1^3 $$\n",
      "\n",
      "```python\n",
      "def example_code():\n",
      "    return 'hohoho'\n",
      "```\n"
     ]
    }
   ],
   "source": [
    "print(source)"
   ]
  },
  {
   "cell_type": "code",
   "execution_count": null,
   "metadata": {},
   "outputs": [],
   "source": []
  },
  {
   "cell_type": "code",
   "execution_count": 16,
   "metadata": {},
   "outputs": [
    {
     "data": {
      "text/plain": [
       "[]"
      ]
     },
     "execution_count": 16,
     "metadata": {},
     "output_type": "execute_result"
    }
   ],
   "source": [
    "# see https://stackoverflow.com/questions/11819059/regex-match-character-which-is-not-escaped\n",
    "s = r'adfsa flaj \\abc sdfkla'\n",
    "r = r'(?<!\\\\)(?:\\\\\\\\)*abc'\n",
    "re.findall(r, s)"
   ]
  },
  {
   "cell_type": "code",
   "execution_count": null,
   "metadata": {},
   "outputs": [],
   "source": []
  },
  {
   "cell_type": "code",
   "execution_count": 17,
   "metadata": {},
   "outputs": [
    {
     "data": {
      "text/plain": [
       "['$']"
      ]
     },
     "execution_count": 17,
     "metadata": {},
     "output_type": "execute_result"
    }
   ],
   "source": [
    "r = r'(?<!\\\\\\\\)\\$'\n",
    "s = r'adfsa flaj \\\\$30 sdfkla $ hoho.'\n",
    "re.findall(r, s)"
   ]
  },
  {
   "cell_type": "code",
   "execution_count": 40,
   "metadata": {},
   "outputs": [
    {
     "data": {
      "text/plain": [
       "['$$x=5$$', '$$x = 12$$']"
      ]
     },
     "execution_count": 40,
     "metadata": {},
     "output_type": "execute_result"
    }
   ],
   "source": [
    "r = r'(?<!\\\\\\\\)\\$\\$.+?\\$\\$'\n",
    "s = r'adfsa flaj \\\\$$30 sdfkla $$x=5$$ hoho.\\n$$x = 12$$\\nhoho.'\n",
    "re.findall(r, s)"
   ]
  },
  {
   "cell_type": "code",
   "execution_count": 76,
   "metadata": {},
   "outputs": [],
   "source": [
    "# This regex matches lines in form:   $$some text here$$\n",
    "# Note: $$ must start and and line\n",
    "#\n",
    "#                v-------------- beginning (^): matches begining of input/line\n",
    "#                |  v----------- pattern (\\$\\$):   $$ \n",
    "#                |  | v--------- dot (.): matches any character except line break\n",
    "#                |  | |v-------- plus (+): match one or more of preceeding token\n",
    "#                |  | ||  v----- pattern (\\$\\$):   $$\n",
    "#                |  | ||  | v--- end ($): matches end of input/line\n",
    "#                |vvvv||vvvv| \n",
    "pattern_dodo = r'^\\$\\$.+\\$\\$$'\n",
    "\n",
    "def replace_double_dollars(string):\n",
    "    string_list = list(string)\n",
    "    for match in re.finditer(pattern_dodo, string, flags=re.M):\n",
    "        start = match.start()\n",
    "        end = match.end()\n",
    "        string_list[start:start+2] = '\\['\n",
    "        string_list[end-2:end] = '\\]'\n",
    "    return ''.join(string_list)\n",
    "\n",
    "s = 'ala ma\\n$$ ALA $$\\nkota ala'\n",
    "r = replace_double_dollars(s)\n",
    "assert r == 'ala ma\\n\\[ ALA \\]\\nkota ala'"
   ]
  },
  {
   "cell_type": "code",
   "execution_count": 75,
   "metadata": {},
   "outputs": [
    {
     "data": {
      "text/plain": [
       "['$$ ALA $$']"
      ]
     },
     "execution_count": 75,
     "metadata": {},
     "output_type": "execute_result"
    }
   ],
   "source": [
    "r"
   ]
  },
  {
   "cell_type": "code",
   "execution_count": 70,
   "metadata": {},
   "outputs": [
    {
     "name": "stdout",
     "output_type": "stream",
     "text": [
      "ala ma\n",
      "$$ ALA $$\n",
      "kota ala\n"
     ]
    }
   ],
   "source": [
    "print(s)"
   ]
  },
  {
   "cell_type": "code",
   "execution_count": 71,
   "metadata": {},
   "outputs": [
    {
     "name": "stdout",
     "output_type": "stream",
     "text": [
      "ala ma\n",
      "\\[ ALA \\]\n",
      "kota ala\n"
     ]
    }
   ],
   "source": [
    "print(replace_double_dollars(s))"
   ]
  },
  {
   "cell_type": "code",
   "execution_count": 72,
   "metadata": {},
   "outputs": [
    {
     "name": "stdout",
     "output_type": "stream",
     "text": [
      "Some good and clear answer goes here\n",
      "\n",
      "* maybe a bullet point\n",
      "* or make it two\n",
      "* add some dollar signs \\\\$10 and \\\\$20 usd\n",
      "* bullet with $x = 4$ math and $x = 5$ more math\n",
      "\n",
      "$$ x = 2^4 $$\n",
      "\n",
      "$$ y = 1^3 $$\n",
      "\n",
      "```python\n",
      "def example_code():\n",
      "    return 'hohoho'\n",
      "```\n"
     ]
    }
   ],
   "source": [
    "print(source)"
   ]
  },
  {
   "cell_type": "code",
   "execution_count": 73,
   "metadata": {},
   "outputs": [
    {
     "name": "stdout",
     "output_type": "stream",
     "text": [
      "Some good and clear answer goes here\n",
      "\n",
      "* maybe a bullet point\n",
      "* or make it two\n",
      "* add some dollar signs \\\\$10 and \\\\$20 usd\n",
      "* bullet with $x = 4$ math and $x = 5$ more math\n",
      "\n",
      "\\[ x = 2^4 \\]\n",
      "\n",
      "\\[ y = 1^3 \\]\n",
      "\n",
      "```python\n",
      "def example_code():\n",
      "    return 'hohoho'\n",
      "```\n"
     ]
    }
   ],
   "source": [
    "print(replace_double_dollars(source))"
   ]
  },
  {
   "cell_type": "code",
   "execution_count": 96,
   "metadata": {},
   "outputs": [
    {
     "data": {
      "text/plain": [
       "200"
      ]
     },
     "execution_count": 96,
     "metadata": {},
     "output_type": "execute_result"
    }
   ],
   "source": []
  },
  {
   "cell_type": "code",
   "execution_count": null,
   "metadata": {},
   "outputs": [],
   "source": [
    "cell.source.replace('$$', '\\[')"
   ]
  },
  {
   "cell_type": "code",
   "execution_count": null,
   "metadata": {},
   "outputs": [],
   "source": []
  },
  {
   "cell_type": "code",
   "execution_count": null,
   "metadata": {},
   "outputs": [],
   "source": []
  },
  {
   "cell_type": "code",
   "execution_count": 77,
   "metadata": {},
   "outputs": [],
   "source": [
    "tmp = nbformat.v4.new_notebook()"
   ]
  },
  {
   "cell_type": "code",
   "execution_count": 78,
   "metadata": {},
   "outputs": [],
   "source": [
    "tmp['cells'].append(cell)"
   ]
  },
  {
   "cell_type": "code",
   "execution_count": null,
   "metadata": {},
   "outputs": [],
   "source": []
  },
  {
   "cell_type": "code",
   "execution_count": 79,
   "metadata": {},
   "outputs": [],
   "source": [
    "html_exporter = nbconvert.HTMLExporter()\n",
    "html_exporter.template_file = 'basic'"
   ]
  },
  {
   "cell_type": "code",
   "execution_count": 80,
   "metadata": {},
   "outputs": [],
   "source": [
    "(body, resources) = html_exporter.from_notebook_node(tmp)"
   ]
  },
  {
   "cell_type": "code",
   "execution_count": 81,
   "metadata": {},
   "outputs": [
    {
     "name": "stdout",
     "output_type": "stream",
     "text": [
      "\n",
      "<div class=\"cell border-box-sizing text_cell rendered\"><div class=\"prompt input_prompt\">\n",
      "</div><div class=\"inner_cell\">\n",
      "<div class=\"text_cell_render border-box-sizing rendered_html\">\n",
      "<p>Some good and clear answer goes here</p>\n",
      "<ul>\n",
      "<li>maybe a bullet point</li>\n",
      "<li>or make it two</li>\n",
      "<li>bullet with $x = 4$ math</li>\n",
      "</ul>\n",
      "$$ x = 2^4 $$<div class=\"highlight\"><pre><span></span><span class=\"k\">def</span> <span class=\"nf\">example_code</span><span class=\"p\">():</span>\n",
      "    <span class=\"k\">return</span> <span class=\"s1\">&#39;hohoho&#39;</span>\n",
      "</pre></div>\n",
      "\n",
      "</div>\n",
      "</div>\n",
      "</div>\n",
      " \n",
      "\n",
      "\n"
     ]
    }
   ],
   "source": [
    "print(body)"
   ]
  },
  {
   "cell_type": "code",
   "execution_count": null,
   "metadata": {},
   "outputs": [],
   "source": []
  }
 ],
 "metadata": {
  "kernelspec": {
   "display_name": "Python 3",
   "language": "python",
   "name": "python3"
  },
  "language_info": {
   "codemirror_mode": {
    "name": "ipython",
    "version": 3
   },
   "file_extension": ".py",
   "mimetype": "text/x-python",
   "name": "python",
   "nbconvert_exporter": "python",
   "pygments_lexer": "ipython3",
   "version": "3.7.3"
  }
 },
 "nbformat": 4,
 "nbformat_minor": 2
}
