{
 "cells": [
  {
   "cell_type": "markdown",
   "metadata": {},
   "source": [
    "# Imports"
   ]
  },
  {
   "cell_type": "code",
   "execution_count": 1,
   "metadata": {},
   "outputs": [],
   "source": [
    "%load_ext autoreload\n",
    "%autoreload 2"
   ]
  },
  {
   "cell_type": "code",
   "execution_count": 2,
   "metadata": {},
   "outputs": [],
   "source": [
    "import os\n",
    "import re\n",
    "import sys\n",
    "import json\n",
    "\n",
    "\n",
    "import nbformat"
   ]
  },
  {
   "cell_type": "code",
   "execution_count": 3,
   "metadata": {},
   "outputs": [],
   "source": [
    "module_path = os.path.abspath(os.path.join('..'))\n",
    "if module_path not in sys.path:\n",
    "    sys.path.append(module_path)\n",
    "\n",
    "import mbrain as mb"
   ]
  },
  {
   "cell_type": "markdown",
   "metadata": {},
   "source": [
    "# Jupyter"
   ]
  },
  {
   "cell_type": "code",
   "execution_count": 4,
   "metadata": {},
   "outputs": [],
   "source": [
    "with open('Example.ipynb', 'r') as f:\n",
    "    nb = nbformat.read(f, as_version=4)"
   ]
  },
  {
   "cell_type": "code",
   "execution_count": 5,
   "metadata": {},
   "outputs": [],
   "source": [
    "cell = nb['cells'][3]"
   ]
  },
  {
   "cell_type": "code",
   "execution_count": 6,
   "metadata": {},
   "outputs": [
    {
     "data": {
      "text/plain": [
       "True"
      ]
     },
     "execution_count": 6,
     "metadata": {},
     "output_type": "execute_result"
    }
   ],
   "source": [
    "mb.is_flashcard(nb['cells'][3])"
   ]
  },
  {
   "cell_type": "code",
   "execution_count": 7,
   "metadata": {},
   "outputs": [
    {
     "name": "stdout",
     "output_type": "stream",
     "text": [
      "<!-- {\"id\": \"1560028715697\"} -->\n",
      "\n",
      "**Another question goes here**\n",
      "\n",
      "Another good and clear answer goes here\n",
      "\n",
      "* maybe a bullet point\n",
      "* or make it two\n",
      "* bullet with $x = 4$ math\n",
      "\n",
      "$$ x = 2^4 $$\n",
      "\n",
      "```python\n",
      "def example_code():\n",
      "    return 'hohoho'\n",
      "```\n",
      "\n",
      "![image.png](attachment:image.png)\n"
     ]
    }
   ],
   "source": [
    "print(cell.source)"
   ]
  },
  {
   "cell_type": "code",
   "execution_count": 8,
   "metadata": {},
   "outputs": [
    {
     "name": "stdout",
     "output_type": "stream",
     "text": [
      "META:\n",
      " {'id': '1560028715697'} \n",
      "\n",
      "HEAD:\n",
      " Another question goes here \n",
      "\n",
      "BODY:\n",
      " \n",
      "<div class=\"cell border-box-sizing text_cell rendered\"><div class=\"prompt input_prompt\">\n",
      "</div><div class=\"inner_cell\" style=\"text-align: left\">\n",
      "<div class=\"text_cell_render border-box-sizing rendered_html\">\n",
      "<p>Another good and clear answer goes here</p>\n",
      "<ul>\n",
      "<li>maybe a bullet point</li>\n",
      "<li>or make it two</li>\n",
      "<li>bullet with \\(x = 4\\) math</li>\n",
      "</ul>\n",
      "\\[ x = 2^4 \\]<div class=\"highlight\"><pre><span></span><span class=\"k\">def</span> <span class=\"nf\">example_code</span><span class=\"p\">():</span>\n",
      "    <span class=\"k\">return</span> <span class=\"s1\">&#39;hohoho&#39;</span>\n",
      "</pre></div>\n",
      "<p><img src=\"9ea02ea0be30cd2940f46a9d255628ee5bdd6d5b08a169e6728655ccb9902776\"></p>\n",
      "\n",
      "</div>\n",
      "</div>\n",
      "</div>\n",
      " \n",
      "\n",
      " \n",
      "\n",
      "ATTACHMENTS:\n"
     ]
    },
    {
     "data": {
      "text/plain": [
       "{'image.png': KeyValue(key='9ea02ea0be30cd2940f46a9d255628ee5bdd6d5b08a169e6728655ccb9902776', value='iVBORw0KGgoAAAANSUhEUgAAAAUAAAAFCAYAAACNbyblAAAABHNCSVQICAgIfAhkiAAAACNJREFUCFtjZACC/2AEAYwMDIyMyAIwCSYYA5nGKgg0AtNMAIZJBgYMfgDDAAAAAElFTkSuQmCC')}"
      ]
     },
     "metadata": {},
     "output_type": "display_data"
    }
   ],
   "source": [
    "meta, head, body, attachments = mb.process_cell(cell)\n",
    "print('META:\\n', meta, '\\n')\n",
    "print('HEAD:\\n', head, '\\n')\n",
    "print('BODY:\\n', body, '\\n')\n",
    "print('ATTACHMENTS:')\n",
    "display(attachments)"
   ]
  },
  {
   "cell_type": "code",
   "execution_count": 9,
   "metadata": {},
   "outputs": [
    {
     "name": "stdout",
     "output_type": "stream",
     "text": [
      "<!-- {\"id\": \"1560028715697\"} -->\n",
      "\n",
      "**Another question goes here**\n",
      "\n",
      "Another good and clear answer goes here\n",
      "\n",
      "* maybe a bullet point\n",
      "* or make it two\n",
      "* bullet with $x = 4$ math\n",
      "\n",
      "$$ x = 2^4 $$\n",
      "\n",
      "```python\n",
      "def example_code():\n",
      "    return 'hohoho'\n",
      "```\n",
      "\n",
      "![image.png](attachment:image.png)\n"
     ]
    }
   ],
   "source": [
    "new_source = mb.put_meta(cell.source, anki_id=meta['id'])\n",
    "print(new_source)"
   ]
  },
  {
   "cell_type": "code",
   "execution_count": 10,
   "metadata": {},
   "outputs": [],
   "source": [
    "cell.source = new_source"
   ]
  },
  {
   "cell_type": "code",
   "execution_count": 11,
   "metadata": {},
   "outputs": [],
   "source": [
    "with open('Example.ipynb', 'w') as f:\n",
    "    nbformat.write(nb, f)"
   ]
  },
  {
   "cell_type": "markdown",
   "metadata": {},
   "source": [
    "# Anki Connect"
   ]
  },
  {
   "cell_type": "code",
   "execution_count": 12,
   "metadata": {},
   "outputs": [],
   "source": [
    "mb.anki_test_db()"
   ]
  },
  {
   "cell_type": "code",
   "execution_count": 13,
   "metadata": {},
   "outputs": [
    {
     "data": {
      "text/plain": [
       "['Taxonomy',\n",
       " 'Body - Training',\n",
       " 'Default',\n",
       " 'Master Deck',\n",
       " 'zz Input',\n",
       " 'zz Input 2',\n",
       " 'zz_Temp',\n",
       " 'Testing',\n",
       " 'Notes']"
      ]
     },
     "execution_count": 13,
     "metadata": {},
     "output_type": "execute_result"
    }
   ],
   "source": [
    "mb.anki_get_decks()"
   ]
  },
  {
   "cell_type": "code",
   "execution_count": 14,
   "metadata": {},
   "outputs": [
    {
     "data": {
      "text/plain": [
       "['1560131443420']"
      ]
     },
     "execution_count": 14,
     "metadata": {},
     "output_type": "execute_result"
    }
   ],
   "source": [
    "mb.anki_find_notes('Testing')"
   ]
  },
  {
   "cell_type": "code",
   "execution_count": 15,
   "metadata": {},
   "outputs": [
    {
     "name": "stdout",
     "output_type": "stream",
     "text": [
      "1571174928623\n"
     ]
    }
   ],
   "source": [
    "id_ = mb.anki_add_note(deck='Testing', front='Question', back='Answer')\n",
    "print(id_)"
   ]
  },
  {
   "cell_type": "code",
   "execution_count": 16,
   "metadata": {},
   "outputs": [
    {
     "data": {
      "text/plain": [
       "('Question', 'Answer')"
      ]
     },
     "execution_count": 16,
     "metadata": {},
     "output_type": "execute_result"
    }
   ],
   "source": [
    "mb.anki_get_note(id_)"
   ]
  },
  {
   "cell_type": "code",
   "execution_count": 17,
   "metadata": {},
   "outputs": [],
   "source": [
    "mb.anki_update_note(id_, front='Question2', back='Answer2')"
   ]
  },
  {
   "cell_type": "code",
   "execution_count": 18,
   "metadata": {},
   "outputs": [
    {
     "data": {
      "text/plain": [
       "('Question2', 'Answer2')"
      ]
     },
     "execution_count": 18,
     "metadata": {},
     "output_type": "execute_result"
    }
   ],
   "source": [
    "mb.anki_get_note(id_)"
   ]
  },
  {
   "cell_type": "code",
   "execution_count": 19,
   "metadata": {},
   "outputs": [],
   "source": [
    "mb.anki_delete_note(id_)"
   ]
  },
  {
   "cell_type": "code",
   "execution_count": 20,
   "metadata": {},
   "outputs": [
    {
     "name": "stdout",
     "output_type": "stream",
     "text": [
      "Note does not exist\n"
     ]
    }
   ],
   "source": [
    "try:\n",
    "    mb.anki_get_note(id_)\n",
    "except KeyError:\n",
    "    print('Note does not exist')"
   ]
  },
  {
   "cell_type": "markdown",
   "metadata": {},
   "source": [
    "**Media Files**"
   ]
  },
  {
   "cell_type": "markdown",
   "metadata": {},
   "source": [
    "<img src=\"data:image/png;base64, iVBORw0KGgoAAAANSUhEUgAAAAUAAAAFCAYAAACNbyblAAAAHElEQVQI12P4//8/w38GIAXDIBKE0DHxgljNBAAO9TXL0Y4OHwAAAABJRU5ErkJggg==\" />"
   ]
  },
  {
   "cell_type": "code",
   "execution_count": 21,
   "metadata": {},
   "outputs": [],
   "source": [
    "data = 'iVBORw0KGgoAAAANSUhEUgAAAAUAAAAFCAYAAACNbyblAAAABHNCSVQICAgIfAhkiAAAACNJ' \\\n",
    "       'REFUCFtjZACC/2AEAYwMDIyMyAIwCSYYA5nGKgg0AtNMAIZJBgYMfgDDAAAAAElFTkSuQmCC'\n",
    "mb.anki_add_or_replace_media('reddot.png', data=data)"
   ]
  },
  {
   "cell_type": "code",
   "execution_count": 22,
   "metadata": {},
   "outputs": [
    {
     "data": {
      "text/plain": [
       "'iVBORw0KGgoAAAANSUhEUgAAAAUAAAAFCAYAAACNbyblAAAABHNCSVQICAgIfAhkiAAAACNJREFUCFtjZACC/2AEAYwMDIyMyAIwCSYYA5nGKgg0AtNMAIZJBgYMfgDDAAAAAElFTkSuQmCC'"
      ]
     },
     "execution_count": 22,
     "metadata": {},
     "output_type": "execute_result"
    }
   ],
   "source": [
    "mb.anki_get_media('reddot.png')"
   ]
  },
  {
   "cell_type": "markdown",
   "metadata": {},
   "source": [
    "# Jupyter -> Anki"
   ]
  },
  {
   "cell_type": "code",
   "execution_count": 23,
   "metadata": {},
   "outputs": [],
   "source": [
    "with open('Example.ipynb', 'r') as f:\n",
    "    nb = nbformat.read(f, as_version=4)"
   ]
  },
  {
   "cell_type": "code",
   "execution_count": 24,
   "metadata": {},
   "outputs": [
    {
     "name": "stdout",
     "output_type": "stream",
     "text": [
      "['1560131443420']\n"
     ]
    }
   ],
   "source": [
    "note_ids = mb.anki_find_notes('Testing')\n",
    "print(note_ids)"
   ]
  },
  {
   "cell_type": "code",
   "execution_count": 25,
   "metadata": {},
   "outputs": [
    {
     "ename": "AttributeError",
     "evalue": "module 'mbrain' has no attribute 'figure_out_command'",
     "output_type": "error",
     "traceback": [
      "\u001b[0;31m---------------------------------------------------------------------------\u001b[0m",
      "\u001b[0;31mAttributeError\u001b[0m                            Traceback (most recent call last)",
      "\u001b[0;32m<ipython-input-25-3f4c47e9185b>\u001b[0m in \u001b[0;36m<module>\u001b[0;34m\u001b[0m\n\u001b[1;32m      6\u001b[0m \u001b[0;34m\u001b[0m\u001b[0m\n\u001b[1;32m      7\u001b[0m     \u001b[0mmeta\u001b[0m\u001b[0;34m,\u001b[0m \u001b[0mhead\u001b[0m\u001b[0;34m,\u001b[0m \u001b[0mbody\u001b[0m\u001b[0;34m,\u001b[0m \u001b[0mattachments\u001b[0m \u001b[0;34m=\u001b[0m \u001b[0mmb\u001b[0m\u001b[0;34m.\u001b[0m\u001b[0mprocess_cell\u001b[0m\u001b[0;34m(\u001b[0m\u001b[0mcell\u001b[0m\u001b[0;34m)\u001b[0m\u001b[0;34m\u001b[0m\u001b[0;34m\u001b[0m\u001b[0m\n\u001b[0;32m----> 8\u001b[0;31m     \u001b[0mcmd\u001b[0m \u001b[0;34m=\u001b[0m \u001b[0mmb\u001b[0m\u001b[0;34m.\u001b[0m\u001b[0mfigure_out_command\u001b[0m\u001b[0;34m(\u001b[0m\u001b[0mmeta\u001b[0m\u001b[0;34m,\u001b[0m \u001b[0mhead\u001b[0m\u001b[0;34m,\u001b[0m \u001b[0mbody\u001b[0m\u001b[0;34m,\u001b[0m \u001b[0mnote_ids\u001b[0m\u001b[0;34m)\u001b[0m\u001b[0;34m\u001b[0m\u001b[0;34m\u001b[0m\u001b[0m\n\u001b[0m\u001b[1;32m      9\u001b[0m     \u001b[0;32mif\u001b[0m \u001b[0mcmd\u001b[0m \u001b[0;32mis\u001b[0m \u001b[0;32mnot\u001b[0m \u001b[0;32mNone\u001b[0m\u001b[0;34m:\u001b[0m\u001b[0;34m\u001b[0m\u001b[0;34m\u001b[0m\u001b[0m\n\u001b[1;32m     10\u001b[0m         \u001b[0mcmd\u001b[0m\u001b[0;34m.\u001b[0m\u001b[0mdeck\u001b[0m \u001b[0;34m=\u001b[0m \u001b[0;34m'Testing'\u001b[0m\u001b[0;34m\u001b[0m\u001b[0;34m\u001b[0m\u001b[0m\n",
      "\u001b[0;31mAttributeError\u001b[0m: module 'mbrain' has no attribute 'figure_out_command'"
     ]
    }
   ],
   "source": [
    "commands = []\n",
    "\n",
    "for cell in nb['cells']:\n",
    "    if not mb.is_flashcard(cell):\n",
    "        continue\n",
    "        \n",
    "    meta, head, body, attachments = mb.process_cell(cell)\n",
    "    cmd = mb.figure_out_command(meta, head, body, note_ids)\n",
    "    if cmd is not None:\n",
    "        cmd.deck = 'Testing'\n",
    "        cmd.cell = cell\n",
    "        cmd.attachments = attachments\n",
    "        commands.append(cmd)"
   ]
  },
  {
   "cell_type": "code",
   "execution_count": 26,
   "metadata": {},
   "outputs": [
    {
     "data": {
      "text/plain": [
       "[]"
      ]
     },
     "execution_count": 26,
     "metadata": {},
     "output_type": "execute_result"
    }
   ],
   "source": [
    "[c.cmd + ': ' + c.head for c in commands]"
   ]
  },
  {
   "cell_type": "code",
   "execution_count": 28,
   "metadata": {},
   "outputs": [],
   "source": [
    "for cmd in commands:\n",
    "    mb.execute_command(cmd)"
   ]
  },
  {
   "cell_type": "code",
   "execution_count": 29,
   "metadata": {},
   "outputs": [],
   "source": [
    "with open('Example.ipynb', 'w') as f:\n",
    "    nbformat.write(nb, f)"
   ]
  },
  {
   "cell_type": "code",
   "execution_count": null,
   "metadata": {},
   "outputs": [],
   "source": []
  },
  {
   "cell_type": "code",
   "execution_count": null,
   "metadata": {},
   "outputs": [],
   "source": []
  },
  {
   "cell_type": "code",
   "execution_count": null,
   "metadata": {},
   "outputs": [],
   "source": []
  }
 ],
 "metadata": {
  "kernelspec": {
   "display_name": "Python [conda env:marcin-brain]",
   "language": "python",
   "name": "conda-env-marcin-brain-py"
  },
  "language_info": {
   "codemirror_mode": {
    "name": "ipython",
    "version": 3
   },
   "file_extension": ".py",
   "mimetype": "text/x-python",
   "name": "python",
   "nbconvert_exporter": "python",
   "pygments_lexer": "ipython3",
   "version": "3.7.3"
  },
  "toc": {
   "base_numbering": 1,
   "nav_menu": {},
   "number_sections": false,
   "sideBar": true,
   "skip_h1_title": false,
   "title_cell": "Table of Contents",
   "title_sidebar": "Contents",
   "toc_cell": false,
   "toc_position": {},
   "toc_section_display": true,
   "toc_window_display": false
  }
 },
 "nbformat": 4,
 "nbformat_minor": 2
}
