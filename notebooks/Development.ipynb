{
 "cells": [
  {
   "cell_type": "markdown",
   "metadata": {},
   "source": [
    "# Imports"
   ]
  },
  {
   "cell_type": "code",
   "execution_count": 1,
   "metadata": {},
   "outputs": [],
   "source": [
    "%load_ext autoreload\n",
    "%autoreload 2"
   ]
  },
  {
   "cell_type": "code",
   "execution_count": 2,
   "metadata": {},
   "outputs": [],
   "source": [
    "import os\n",
    "import re\n",
    "import sys\n",
    "import json\n",
    "\n",
    "import nbformat"
   ]
  },
  {
   "cell_type": "code",
   "execution_count": 3,
   "metadata": {},
   "outputs": [],
   "source": [
    "module_path = os.path.abspath(os.path.join('..'))\n",
    "if module_path not in sys.path:\n",
    "    sys.path.append(module_path)\n",
    "\n",
    "import mbrain as mb"
   ]
  },
  {
   "cell_type": "markdown",
   "metadata": {},
   "source": [
    "# Jupyter"
   ]
  },
  {
   "cell_type": "code",
   "execution_count": 4,
   "metadata": {},
   "outputs": [],
   "source": [
    "with open('Example.ipynb', 'r') as f:\n",
    "    nb = nbformat.read(f, as_version=4)"
   ]
  },
  {
   "cell_type": "code",
   "execution_count": 5,
   "metadata": {},
   "outputs": [],
   "source": [
    "cell = nb['cells'][2]"
   ]
  },
  {
   "cell_type": "code",
   "execution_count": 6,
   "metadata": {},
   "outputs": [
    {
     "data": {
      "text/plain": [
       "True"
      ]
     },
     "execution_count": 6,
     "metadata": {},
     "output_type": "execute_result"
    }
   ],
   "source": [
    "mb.is_flashcard(nb['cells'][2])"
   ]
  },
  {
   "cell_type": "code",
   "execution_count": 7,
   "metadata": {},
   "outputs": [
    {
     "name": "stdout",
     "output_type": "stream",
     "text": [
      "<!-- {\"id\": \"1560026882572\"} -->\n",
      "\n",
      "**Example question goes here**\n",
      "\n",
      "Some good and clear answer goes here\n",
      "\n",
      "* maybe a bullet point\n",
      "* or make it two\n",
      "* add some dollar signs <span>\\$</span>10 and <span>\\$</span>20 usd\n",
      "* bullet with $x = 4$ math and $x = 5$ more math\n",
      "\n",
      "$$ x = 2^4 $$\n",
      "\n",
      "$$ y = 1^3 $$\n",
      "\n",
      "```python\n",
      "def example_code():\n",
      "    return 'hohoho'\n",
      "```\n",
      "\n"
     ]
    }
   ],
   "source": [
    "print(cell.source)"
   ]
  },
  {
   "cell_type": "code",
   "execution_count": 8,
   "metadata": {},
   "outputs": [
    {
     "name": "stdout",
     "output_type": "stream",
     "text": [
      "META:\n",
      " {'id': '1560026882572'} \n",
      "\n",
      "HEAD:\n",
      " Example question goes here \n",
      "\n",
      "BODY:\n",
      " \n",
      "<div class=\"cell border-box-sizing text_cell rendered\"><div class=\"prompt input_prompt\">\n",
      "</div><div class=\"inner_cell\">\n",
      "<div class=\"text_cell_render border-box-sizing rendered_html\">\n",
      "<p>Some good and clear answer goes here</p>\n",
      "<ul>\n",
      "<li>maybe a bullet point</li>\n",
      "<li>or make it two</li>\n",
      "<li>add some dollar signs $10 and $20 usd</li>\n",
      "<li>bullet with \\(x = 4\\) math and \\(x = 5\\) more math</li>\n",
      "</ul>\n",
      "\\[ x = 2^4 \\]\\[ y = 1^3 \\]<div class=\"highlight\"><pre><span></span><span class=\"k\">def</span> <span class=\"nf\">example_code</span><span class=\"p\">():</span>\n",
      "    <span class=\"k\">return</span> <span class=\"s1\">&#39;hohoho&#39;</span>\n",
      "</pre></div>\n",
      "\n",
      "</div>\n",
      "</div>\n",
      "</div>\n",
      " \n",
      "\n",
      "\n"
     ]
    }
   ],
   "source": [
    "meta, head, body = mb.process_cell_source(cell.source)\n",
    "print('META:\\n', meta, '\\n')\n",
    "print('HEAD:\\n', head, '\\n')\n",
    "print('BODY:\\n', body)"
   ]
  },
  {
   "cell_type": "code",
   "execution_count": 9,
   "metadata": {},
   "outputs": [
    {
     "name": "stdout",
     "output_type": "stream",
     "text": [
      "<!-- {\"id\": \"1234567890\"} -->\n",
      "\n",
      "**Example question goes here**\n",
      "\n",
      "Some good and clear answer goes here\n",
      "\n",
      "* maybe a bullet point\n",
      "* or make it two\n",
      "* add some dollar signs <span>\\$</span>10 and <span>\\$</span>20 usd\n",
      "* bullet with $x = 4$ math and $x = 5$ more math\n",
      "\n",
      "$$ x = 2^4 $$\n",
      "\n",
      "$$ y = 1^3 $$\n",
      "\n",
      "```python\n",
      "def example_code():\n",
      "    return 'hohoho'\n",
      "```\n",
      "\n"
     ]
    }
   ],
   "source": [
    "new_source = mb.put_meta(cell.source, anki_id='1234567890')\n",
    "print(new_source)"
   ]
  },
  {
   "cell_type": "code",
   "execution_count": 10,
   "metadata": {},
   "outputs": [],
   "source": [
    "cell.source = new_source"
   ]
  },
  {
   "cell_type": "code",
   "execution_count": 11,
   "metadata": {},
   "outputs": [],
   "source": [
    "with open('Example_Out.ipynb', 'w') as f:\n",
    "    nbformat.write(nb, f)"
   ]
  },
  {
   "cell_type": "code",
   "execution_count": 12,
   "metadata": {},
   "outputs": [
    {
     "name": "stdout",
     "output_type": "stream",
     "text": [
      "21c21\n",
      "<     \"<!-- {\\\"id\\\": \\\"1560026882572\\\"} -->\\n\",\n",
      "---\n",
      ">     \"<!-- {\\\"id\\\": \\\"1234567890\\\"} -->\\n\",\n"
     ]
    }
   ],
   "source": [
    "!diff Example.ipynb Example_Out.ipynb"
   ]
  },
  {
   "cell_type": "code",
   "execution_count": 13,
   "metadata": {},
   "outputs": [],
   "source": [
    "from IPython.core.display import HTML"
   ]
  },
  {
   "cell_type": "code",
   "execution_count": 14,
   "metadata": {},
   "outputs": [
    {
     "data": {
      "text/html": [
       "\n",
       "<div class=\"cell border-box-sizing text_cell rendered\"><div class=\"prompt input_prompt\">\n",
       "</div><div class=\"inner_cell\">\n",
       "<div class=\"text_cell_render border-box-sizing rendered_html\">\n",
       "<p>Some good and clear answer goes here</p>\n",
       "<ul>\n",
       "<li>maybe a bullet point</li>\n",
       "<li>or make it two</li>\n",
       "<li>add some dollar signs $10 and $20 usd</li>\n",
       "<li>bullet with \\(x = 4\\) math and \\(x = 5\\) more math</li>\n",
       "</ul>\n",
       "\\[ x = 2^4 \\]\\[ y = 1^3 \\]<div class=\"highlight\"><pre><span></span><span class=\"k\">def</span> <span class=\"nf\">example_code</span><span class=\"p\">():</span>\n",
       "    <span class=\"k\">return</span> <span class=\"s1\">&#39;hohoho&#39;</span>\n",
       "</pre></div>\n",
       "\n",
       "</div>\n",
       "</div>\n",
       "</div>\n",
       " \n",
       "\n"
      ],
      "text/plain": [
       "<IPython.core.display.HTML object>"
      ]
     },
     "metadata": {},
     "output_type": "display_data"
    }
   ],
   "source": [
    "display(HTML(body))"
   ]
  },
  {
   "cell_type": "markdown",
   "metadata": {},
   "source": [
    "# Anki Connect"
   ]
  },
  {
   "cell_type": "code",
   "execution_count": 15,
   "metadata": {},
   "outputs": [],
   "source": [
    "mb.anki_test_db()"
   ]
  },
  {
   "cell_type": "code",
   "execution_count": 16,
   "metadata": {},
   "outputs": [
    {
     "data": {
      "text/plain": [
       "['Taxonomy',\n",
       " 'Body - Training',\n",
       " 'Default',\n",
       " 'Master Deck',\n",
       " 'zz Input',\n",
       " 'zz Input 2',\n",
       " 'zz_Temp',\n",
       " 'Testing']"
      ]
     },
     "execution_count": 16,
     "metadata": {},
     "output_type": "execute_result"
    }
   ],
   "source": [
    "mb.anki_get_decks()"
   ]
  },
  {
   "cell_type": "code",
   "execution_count": 17,
   "metadata": {},
   "outputs": [
    {
     "data": {
      "text/plain": [
       "['1517497423118', '1517497467024', '1517497482074']"
      ]
     },
     "execution_count": 17,
     "metadata": {},
     "output_type": "execute_result"
    }
   ],
   "source": [
    "mb.anki_find_notes('Master Deck')[:3]"
   ]
  },
  {
   "cell_type": "code",
   "execution_count": 18,
   "metadata": {},
   "outputs": [
    {
     "name": "stdout",
     "output_type": "stream",
     "text": [
      "1560028646047\n"
     ]
    }
   ],
   "source": [
    "id_ = mb.anki_add_note(deck='Testing', front='Question', back='Answer')\n",
    "print(id_)"
   ]
  },
  {
   "cell_type": "code",
   "execution_count": 19,
   "metadata": {},
   "outputs": [
    {
     "data": {
      "text/plain": [
       "('Question', 'Answer')"
      ]
     },
     "execution_count": 19,
     "metadata": {},
     "output_type": "execute_result"
    }
   ],
   "source": [
    "mb.anki_get_note(id_)"
   ]
  },
  {
   "cell_type": "code",
   "execution_count": 20,
   "metadata": {},
   "outputs": [],
   "source": [
    "mb.anki_update_note(id_, front='Question2', back='Answer2')"
   ]
  },
  {
   "cell_type": "code",
   "execution_count": 21,
   "metadata": {},
   "outputs": [
    {
     "data": {
      "text/plain": [
       "('Question2', 'Answer2')"
      ]
     },
     "execution_count": 21,
     "metadata": {},
     "output_type": "execute_result"
    }
   ],
   "source": [
    "mb.anki_get_note(id_)"
   ]
  },
  {
   "cell_type": "code",
   "execution_count": 22,
   "metadata": {},
   "outputs": [],
   "source": [
    "mb.anki_delete_note(id_)"
   ]
  },
  {
   "cell_type": "code",
   "execution_count": 23,
   "metadata": {},
   "outputs": [
    {
     "name": "stdout",
     "output_type": "stream",
     "text": [
      "Note does not exist\n"
     ]
    }
   ],
   "source": [
    "try:\n",
    "    mb.anki_get_note(id_)\n",
    "except KeyError:\n",
    "    print('Note does not exist')"
   ]
  },
  {
   "cell_type": "markdown",
   "metadata": {},
   "source": [
    "# Jupyter -> Anki"
   ]
  },
  {
   "cell_type": "code",
   "execution_count": 24,
   "metadata": {},
   "outputs": [],
   "source": [
    "class Command:\n",
    "    def __init__(self, cmd, id_, head, body, deck=None, cell=None):\n",
    "        self.cmd = cmd\n",
    "        self.id = id_\n",
    "        self.head = head\n",
    "        self.body = body\n",
    "        self.deck = deck\n",
    "        self.cell = cell"
   ]
  },
  {
   "cell_type": "code",
   "execution_count": 25,
   "metadata": {},
   "outputs": [],
   "source": [
    "def figure_out_command(meta, head, body, node_ids):\n",
    "    if 'id' not in meta:\n",
    "        # This note has empty <!---->, meaning it was just added in Jupyter\n",
    "        cmd = Command('add', None, head, body)\n",
    "    else:\n",
    "        # Get note Anki ID\n",
    "        id_ = meta['id']\n",
    "\n",
    "        if id_ not in note_ids:\n",
    "            # card was probably manually deleted from Anki, recreate it\n",
    "            cmd = Command('add2', None, head, body)\n",
    "        else:\n",
    "            # ID exists in database\n",
    "\n",
    "            front, back = mb.anki_get_note(id_)\n",
    "            if front != head or back != body:\n",
    "                cmd = Command('update', id_, head, body)\n",
    "            else:\n",
    "                cmd = None\n",
    "    \n",
    "    return cmd"
   ]
  },
  {
   "cell_type": "code",
   "execution_count": 26,
   "metadata": {},
   "outputs": [],
   "source": [
    "def execute_command(cmd):\n",
    "    assert cmd.deck is not None\n",
    "    assert cmd.cell is not None\n",
    "    if cmd.cmd in ['add', 'add2']:\n",
    "        id_ = mb.anki_add_note(cmd.deck, cmd.head, cmd.body)\n",
    "        new_meta = mb.put_meta(cmd.cell.source, id_)\n",
    "        cmd.cell.source = new_meta\n",
    "    elif cmd.cmd == 'update':\n",
    "        mb.anki_update_note(cmd.id, cmd.head, cmd.body)\n",
    "    else:\n",
    "        raise ValueError(f'Unknown command: {cmd.cmd}')"
   ]
  },
  {
   "cell_type": "code",
   "execution_count": null,
   "metadata": {},
   "outputs": [],
   "source": []
  },
  {
   "cell_type": "code",
   "execution_count": 28,
   "metadata": {},
   "outputs": [],
   "source": [
    "with open('Example.ipynb', 'r') as f:\n",
    "    nb = nbformat.read(f, as_version=4)"
   ]
  },
  {
   "cell_type": "code",
   "execution_count": 29,
   "metadata": {},
   "outputs": [
    {
     "name": "stdout",
     "output_type": "stream",
     "text": [
      "['1560026882572', '1560026908772']\n"
     ]
    }
   ],
   "source": [
    "note_ids = mb.anki_find_notes('Testing')\n",
    "print(note_ids)"
   ]
  },
  {
   "cell_type": "code",
   "execution_count": 30,
   "metadata": {},
   "outputs": [],
   "source": [
    "commands = []\n",
    "\n",
    "for cell in nb['cells']:\n",
    "    if not mb.is_flashcard(cell):\n",
    "        continue\n",
    "        \n",
    "    meta, head, body = mb.process_cell_source(cell.source)\n",
    "    cmd = figure_out_command(meta, head, body, note_ids)\n",
    "    if cmd is not None:\n",
    "        cmd.deck = 'Testing'\n",
    "        cmd.cell = cell\n",
    "        commands.append(cmd)"
   ]
  },
  {
   "cell_type": "code",
   "execution_count": 31,
   "metadata": {},
   "outputs": [
    {
     "data": {
      "text/plain": [
       "['add: Example question goes here', 'add: Another question goes here']"
      ]
     },
     "execution_count": 31,
     "metadata": {},
     "output_type": "execute_result"
    }
   ],
   "source": [
    "[c.cmd + ': ' + c.head for c in commands]"
   ]
  },
  {
   "cell_type": "code",
   "execution_count": 33,
   "metadata": {},
   "outputs": [],
   "source": [
    "for cmd in commands:\n",
    "    execute_command(cmd)"
   ]
  },
  {
   "cell_type": "code",
   "execution_count": 34,
   "metadata": {},
   "outputs": [],
   "source": [
    "with open('Example.ipynb', 'w') as f:\n",
    "    nbformat.write(nb, f)"
   ]
  },
  {
   "cell_type": "code",
   "execution_count": null,
   "metadata": {},
   "outputs": [],
   "source": []
  },
  {
   "cell_type": "code",
   "execution_count": null,
   "metadata": {},
   "outputs": [],
   "source": []
  }
 ],
 "metadata": {
  "kernelspec": {
   "display_name": "Python [conda env:mbrain]",
   "language": "python",
   "name": "conda-env-mbrain-py"
  },
  "language_info": {
   "codemirror_mode": {
    "name": "ipython",
    "version": 3
   },
   "file_extension": ".py",
   "mimetype": "text/x-python",
   "name": "python",
   "nbconvert_exporter": "python",
   "pygments_lexer": "ipython3",
   "version": "3.7.3"
  }
 },
 "nbformat": 4,
 "nbformat_minor": 2
}
