{
 "cells": [
  {
   "cell_type": "markdown",
   "metadata": {},
   "source": [
    "# Imports"
   ]
  },
  {
   "cell_type": "code",
   "execution_count": 1,
   "metadata": {},
   "outputs": [],
   "source": [
    "%load_ext autoreload\n",
    "%autoreload 2"
   ]
  },
  {
   "cell_type": "code",
   "execution_count": 2,
   "metadata": {},
   "outputs": [],
   "source": [
    "import os\n",
    "import re\n",
    "import sys\n",
    "import json\n",
    "\n",
    "import nbformat\n",
    "import nbconvert"
   ]
  },
  {
   "cell_type": "code",
   "execution_count": 3,
   "metadata": {},
   "outputs": [],
   "source": [
    "module_path = os.path.abspath(os.path.join('..'))\n",
    "if module_path not in sys.path:\n",
    "    sys.path.append(module_path)\n",
    "\n",
    "import mbrain as mb"
   ]
  },
  {
   "cell_type": "markdown",
   "metadata": {},
   "source": [
    "# Development"
   ]
  },
  {
   "cell_type": "code",
   "execution_count": 4,
   "metadata": {},
   "outputs": [],
   "source": [
    "with open('Example.ipynb') as f:\n",
    "    # nb = json.load(f)\n",
    "    nb = nbformat.read(f, as_version=4)"
   ]
  },
  {
   "cell_type": "code",
   "execution_count": null,
   "metadata": {},
   "outputs": [],
   "source": []
  },
  {
   "cell_type": "code",
   "execution_count": 5,
   "metadata": {},
   "outputs": [],
   "source": [
    "cell = nb['cells'][2].copy()"
   ]
  },
  {
   "cell_type": "code",
   "execution_count": 7,
   "metadata": {},
   "outputs": [
    {
     "data": {
      "text/plain": [
       "True"
      ]
     },
     "execution_count": 7,
     "metadata": {},
     "output_type": "execute_result"
    }
   ],
   "source": [
    "mb.is_flashcard(nb['cells'][2])"
   ]
  },
  {
   "cell_type": "code",
   "execution_count": 16,
   "metadata": {},
   "outputs": [],
   "source": [
    "source = cell.source"
   ]
  },
  {
   "cell_type": "code",
   "execution_count": null,
   "metadata": {},
   "outputs": [],
   "source": []
  },
  {
   "cell_type": "code",
   "execution_count": 17,
   "metadata": {},
   "outputs": [
    {
     "name": "stdout",
     "output_type": "stream",
     "text": [
      "<!---->\n",
      "\n",
      "**Example question goes here**\n",
      "\n",
      "Some good and clear answer goes here\n",
      "\n",
      "* maybe a bullet point\n",
      "* or make it two\n",
      "* add some dollar signs \\\\$10 and \\\\$20 usd\n",
      "* bullet with $x = 4$ math and $x = 5$ more math\n",
      "\n",
      "$$ x = 2^4 $$\n",
      "\n",
      "$$ y = 1^3 $$\n",
      "\n",
      "```python\n",
      "def example_code():\n",
      "    return 'hohoho'\n",
      "```\n",
      "\n"
     ]
    }
   ],
   "source": [
    "print(source)"
   ]
  },
  {
   "cell_type": "code",
   "execution_count": 18,
   "metadata": {},
   "outputs": [
    {
     "name": "stdout",
     "output_type": "stream",
     "text": [
      "Some good and clear answer goes here\n",
      "\n",
      "* maybe a bullet point\n",
      "* or make it two\n",
      "* add some dollar signs \\\\$10 and \\\\$20 usd\n",
      "* bullet with \\(x = 4\\) math and \\(x = 5\\) more math\n",
      "\n",
      "\\[ x = 2^4 \\]\n",
      "\n",
      "\\[ y = 1^3 \\]\n",
      "\n",
      "```python\n",
      "def example_code():\n",
      "    return 'hohoho'\n",
      "```\n"
     ]
    }
   ],
   "source": [
    "meta = mb.find_meta(source)\n",
    "source = mb.remove_meta(source)\n",
    "head = mb.find_head(source)\n",
    "source = mb.remove_head(source)\n",
    "source = source.strip()\n",
    "source = mb.replace_double_dollars(source)\n",
    "source = mb.replace_single_dollars(source)\n",
    "print(source)"
   ]
  },
  {
   "cell_type": "code",
   "execution_count": 21,
   "metadata": {},
   "outputs": [
    {
     "name": "stdout",
     "output_type": "stream",
     "text": [
      "meta: <!---->\n",
      "head: **Example question goes here**\n",
      "source:\n",
      "Some good and clear answer goes here\n",
      "\n",
      "* maybe a bullet point\n",
      "* or make it two\n",
      "* add some dollar signs \\\\$10 and \\\\$20 usd\n",
      "* bullet with \\(x = 4\\) math and \\(x = 5\\) more math\n",
      "\n",
      "\\[ x = 2^4 \\]\n",
      "\n",
      "\\[ y = 1^3 \\]\n",
      "\n",
      "```python\n",
      "def example_code():\n",
      "    return 'hohoho'\n",
      "```\n"
     ]
    }
   ],
   "source": [
    "print('meta:', meta)\n",
    "print('head:', head)\n",
    "print('source:')\n",
    "print(source)"
   ]
  },
  {
   "cell_type": "code",
   "execution_count": null,
   "metadata": {},
   "outputs": [],
   "source": []
  },
  {
   "cell_type": "code",
   "execution_count": null,
   "metadata": {},
   "outputs": [],
   "source": []
  },
  {
   "cell_type": "code",
   "execution_count": 127,
   "metadata": {},
   "outputs": [],
   "source": [
    "tmp_nb = nbformat.v4.new_notebook()"
   ]
  },
  {
   "cell_type": "code",
   "execution_count": 128,
   "metadata": {},
   "outputs": [],
   "source": [
    "tmp_cell = nbformat.v4.new_markdown_cell(source=source)"
   ]
  },
  {
   "cell_type": "code",
   "execution_count": 129,
   "metadata": {},
   "outputs": [],
   "source": [
    "tmp_nb['cells'].append(tmp_cell)"
   ]
  },
  {
   "cell_type": "code",
   "execution_count": null,
   "metadata": {},
   "outputs": [],
   "source": []
  },
  {
   "cell_type": "code",
   "execution_count": 130,
   "metadata": {},
   "outputs": [],
   "source": [
    "html_exporter = nbconvert.HTMLExporter()\n",
    "html_exporter.template_file = 'basic'"
   ]
  },
  {
   "cell_type": "code",
   "execution_count": 131,
   "metadata": {},
   "outputs": [],
   "source": [
    "(body, resources) = html_exporter.from_notebook_node(tmp_nb)"
   ]
  },
  {
   "cell_type": "code",
   "execution_count": 132,
   "metadata": {},
   "outputs": [
    {
     "name": "stdout",
     "output_type": "stream",
     "text": [
      "\n",
      "<div class=\"cell border-box-sizing text_cell rendered\"><div class=\"prompt input_prompt\">\n",
      "</div><div class=\"inner_cell\">\n",
      "<div class=\"text_cell_render border-box-sizing rendered_html\">\n",
      "<p>Some good and clear answer goes here</p>\n",
      "<ul>\n",
      "<li>maybe a bullet point</li>\n",
      "<li>or make it two</li>\n",
      "<li>add some dollar signs \\$10 and \\\\$20 usd</li>\n",
      "<li>bullet with (x = 4) math and (x = 5) more math</li>\n",
      "</ul>\n",
      "<p>[ x = 2^4 ]</p>\n",
      "<p>[ y = 1^3 ]</p>\n",
      "<div class=\"highlight\"><pre><span></span><span class=\"k\">def</span> <span class=\"nf\">example_code</span><span class=\"p\">():</span>\n",
      "    <span class=\"k\">return</span> <span class=\"s1\">&#39;hohoho&#39;</span>\n",
      "</pre></div>\n",
      "\n",
      "</div>\n",
      "</div>\n",
      "</div>\n",
      " \n",
      "\n",
      "\n"
     ]
    }
   ],
   "source": [
    "print(body)"
   ]
  },
  {
   "cell_type": "code",
   "execution_count": null,
   "metadata": {},
   "outputs": [],
   "source": []
  }
 ],
 "metadata": {
  "kernelspec": {
   "display_name": "Python 3",
   "language": "python",
   "name": "python3"
  },
  "language_info": {
   "codemirror_mode": {
    "name": "ipython",
    "version": 3
   },
   "file_extension": ".py",
   "mimetype": "text/x-python",
   "name": "python",
   "nbconvert_exporter": "python",
   "pygments_lexer": "ipython3",
   "version": "3.7.3"
  }
 },
 "nbformat": 4,
 "nbformat_minor": 2
}
