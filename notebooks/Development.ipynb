{
 "cells": [
  {
   "cell_type": "markdown",
   "metadata": {},
   "source": [
    "# Imports"
   ]
  },
  {
   "cell_type": "code",
   "execution_count": 1,
   "metadata": {},
   "outputs": [],
   "source": [
    "%load_ext autoreload\n",
    "%autoreload 2"
   ]
  },
  {
   "cell_type": "code",
   "execution_count": 2,
   "metadata": {},
   "outputs": [],
   "source": [
    "import os\n",
    "import re\n",
    "import sys\n",
    "import json\n",
    "\n",
    "import nbformat"
   ]
  },
  {
   "cell_type": "code",
   "execution_count": 3,
   "metadata": {},
   "outputs": [],
   "source": [
    "module_path = os.path.abspath(os.path.join('..'))\n",
    "if module_path not in sys.path:\n",
    "    sys.path.append(module_path)\n",
    "\n",
    "import mbrain as mb"
   ]
  },
  {
   "cell_type": "markdown",
   "metadata": {},
   "source": [
    "# Development"
   ]
  },
  {
   "cell_type": "code",
   "execution_count": 4,
   "metadata": {},
   "outputs": [],
   "source": [
    "with open('Example.ipynb') as f:\n",
    "    # nb = json.load(f)\n",
    "    nb = nbformat.read(f, as_version=4)"
   ]
  },
  {
   "cell_type": "code",
   "execution_count": 5,
   "metadata": {},
   "outputs": [],
   "source": [
    "cell = nb['cells'][2]"
   ]
  },
  {
   "cell_type": "code",
   "execution_count": 6,
   "metadata": {},
   "outputs": [
    {
     "data": {
      "text/plain": [
       "True"
      ]
     },
     "execution_count": 6,
     "metadata": {},
     "output_type": "execute_result"
    }
   ],
   "source": [
    "mb.is_flashcard(nb['cells'][2])"
   ]
  },
  {
   "cell_type": "code",
   "execution_count": 7,
   "metadata": {},
   "outputs": [
    {
     "name": "stdout",
     "output_type": "stream",
     "text": [
      "<!---->\n",
      "\n",
      "**Example question goes here**\n",
      "\n",
      "Some good and clear answer goes here\n",
      "\n",
      "* maybe a bullet point\n",
      "* or make it two\n",
      "* add some dollar signs <span>\\$</span>10 and <span>\\$</span>20 usd\n",
      "* bullet with $x = 4$ math and $x = 5$ more math\n",
      "\n",
      "$$ x = 2^4 $$\n",
      "\n",
      "$$ y = 1^3 $$\n",
      "\n",
      "```python\n",
      "def example_code():\n",
      "    return 'hohoho'\n",
      "```\n",
      "\n"
     ]
    }
   ],
   "source": [
    "print(cell.source)"
   ]
  },
  {
   "cell_type": "code",
   "execution_count": 8,
   "metadata": {},
   "outputs": [
    {
     "name": "stdout",
     "output_type": "stream",
     "text": [
      "META:\n",
      " <!----> \n",
      "\n",
      "HEAD:\n",
      " **Example question goes here** \n",
      "\n",
      "BODY:\n",
      " \n",
      "<div class=\"cell border-box-sizing text_cell rendered\"><div class=\"prompt input_prompt\">\n",
      "</div><div class=\"inner_cell\">\n",
      "<div class=\"text_cell_render border-box-sizing rendered_html\">\n",
      "<p>Some good and clear answer goes here</p>\n",
      "<ul>\n",
      "<li>maybe a bullet point</li>\n",
      "<li>or make it two</li>\n",
      "<li>add some dollar signs $10 and $20 usd</li>\n",
      "<li>bullet with \\(x = 4\\) math and \\(x = 5\\) more math</li>\n",
      "</ul>\n",
      "\\[ x = 2^4 \\]\\[ y = 1^3 \\]<div class=\"highlight\"><pre><span></span><span class=\"k\">def</span> <span class=\"nf\">example_code</span><span class=\"p\">():</span>\n",
      "    <span class=\"k\">return</span> <span class=\"s1\">&#39;hohoho&#39;</span>\n",
      "</pre></div>\n",
      "\n",
      "</div>\n",
      "</div>\n",
      "</div>\n",
      " \n",
      "\n",
      "\n"
     ]
    }
   ],
   "source": [
    "meta, head, body = mb.process_cell_source(cell.source)\n",
    "print('META:\\n', meta, '\\n')\n",
    "print('HEAD:\\n', head, '\\n')\n",
    "print('BODY:\\n', body)"
   ]
  },
  {
   "cell_type": "code",
   "execution_count": 9,
   "metadata": {},
   "outputs": [],
   "source": [
    "from IPython.core.display import HTML"
   ]
  },
  {
   "cell_type": "code",
   "execution_count": 10,
   "metadata": {},
   "outputs": [
    {
     "data": {
      "text/html": [
       "\n",
       "<div class=\"cell border-box-sizing text_cell rendered\"><div class=\"prompt input_prompt\">\n",
       "</div><div class=\"inner_cell\">\n",
       "<div class=\"text_cell_render border-box-sizing rendered_html\">\n",
       "<p>Some good and clear answer goes here</p>\n",
       "<ul>\n",
       "<li>maybe a bullet point</li>\n",
       "<li>or make it two</li>\n",
       "<li>add some dollar signs $10 and $20 usd</li>\n",
       "<li>bullet with \\(x = 4\\) math and \\(x = 5\\) more math</li>\n",
       "</ul>\n",
       "\\[ x = 2^4 \\]\\[ y = 1^3 \\]<div class=\"highlight\"><pre><span></span><span class=\"k\">def</span> <span class=\"nf\">example_code</span><span class=\"p\">():</span>\n",
       "    <span class=\"k\">return</span> <span class=\"s1\">&#39;hohoho&#39;</span>\n",
       "</pre></div>\n",
       "\n",
       "</div>\n",
       "</div>\n",
       "</div>\n",
       " \n",
       "\n"
      ],
      "text/plain": [
       "<IPython.core.display.HTML object>"
      ]
     },
     "metadata": {},
     "output_type": "display_data"
    }
   ],
   "source": [
    "display(HTML(body))"
   ]
  },
  {
   "cell_type": "markdown",
   "metadata": {},
   "source": [
    "# Anki Connect"
   ]
  },
  {
   "cell_type": "markdown",
   "metadata": {},
   "source": [
    "Install:\n",
    "\n",
    "\n",
    "1. Open the Install Add-on dialog by selecting Tools | Add-ons | Browse & Install in Anki.\n",
    "2. Input **2055492159** into the text box labeled Code and press the OK button to proceed.\n",
    "3. Restart Anki when prompted to do so in order to complete the installation of AnkiConnect.\n",
    "\n",
    "Links:\n",
    "\n",
    "* [AnkiConnect](https://foosoft.net/projects/anki-connect/) - website\n",
    "* [anki-connect](https://github.com/FooSoft/anki-connect) - GitHub"
   ]
  },
  {
   "cell_type": "code",
   "execution_count": 11,
   "metadata": {},
   "outputs": [],
   "source": [
    "import json\n",
    "import urllib"
   ]
  },
  {
   "cell_type": "code",
   "execution_count": 12,
   "metadata": {},
   "outputs": [],
   "source": [
    "def anki_invoke(action, **params):\n",
    "    \"\"\"Exec AnkiConnect RESTful querry.\n",
    "    \n",
    "    This method is low level REST API invocation, recommended to use wrappers instead\n",
    "    \n",
    "    For this to work, you have to:\n",
    "     - have Anki installed with account ready and working, https://apps.ankiweb.net/\n",
    "     - install AnkiConnect plugin, restart: https://foosoft.net/projects/anki-connect/\n",
    "     - have Anki running on same computer in the background\n",
    "    \"\"\"\n",
    "    \n",
    "    def build_dict(action, **params):\n",
    "        return {'action': action, 'params': params, 'version': 6}\n",
    "    \n",
    "    url = 'http://localhost:8765'\n",
    "    payload_dict = build_dict(action, **params)\n",
    "    payload_json = json.dumps(payload_dict).encode('utf-8')\n",
    "    request = urllib.request.Request(url, payload_json)\n",
    "    \n",
    "    with urllib.request.urlopen(request) as f:\n",
    "        response = json.load(f)\n",
    "    \n",
    "    if len(response) != 2:\n",
    "        raise Exception('response has an unexpected number of fields')\n",
    "    if 'error' not in response:\n",
    "        raise Exception('response is missing required error field')\n",
    "    if 'result' not in response:\n",
    "        raise Exception('response is missing required result field')\n",
    "    if response['error'] is not None:\n",
    "        raise Exception(response['error'])\n",
    "    return response['result']\n",
    "\n"
   ]
  },
  {
   "cell_type": "code",
   "execution_count": 14,
   "metadata": {},
   "outputs": [
    {
     "data": {
      "text/plain": [
       "{'Taxonomy': 1529085506371,\n",
       " 'Body - Training': 1530915734641,\n",
       " 'Default': 1,\n",
       " 'Master Deck': 1534961744134,\n",
       " 'zz Input': 1535320252961,\n",
       " 'zz Input 2': 1535682491436,\n",
       " 'zz_Temp': 1542932513179,\n",
       " 'Testing': 1559926834677}"
      ]
     },
     "metadata": {},
     "output_type": "display_data"
    }
   ],
   "source": [
    "result = anki_invoke('deckNamesAndIds')\n",
    "display(result)"
   ]
  },
  {
   "cell_type": "code",
   "execution_count": 24,
   "metadata": {},
   "outputs": [
    {
     "data": {
      "text/plain": [
       "[1560017125593, 1560017138947]"
      ]
     },
     "metadata": {},
     "output_type": "display_data"
    }
   ],
   "source": [
    "result = anki_invoke('findNotes', query='deck:Testing')\n",
    "display(result)"
   ]
  },
  {
   "cell_type": "code",
   "execution_count": 16,
   "metadata": {},
   "outputs": [
    {
     "data": {
      "text/plain": [
       "{'Basic (optional reversed card)': 1509323944264,\n",
       " 'Basic (and reversed card)': 1509323944265,\n",
       " 'Basic': 1509323944266,\n",
       " 'Cloze': 1509323944263}"
      ]
     },
     "metadata": {},
     "output_type": "display_data"
    }
   ],
   "source": [
    "result = anki_invoke('modelNamesAndIds')\n",
    "display(result)"
   ]
  },
  {
   "cell_type": "code",
   "execution_count": 17,
   "metadata": {},
   "outputs": [
    {
     "data": {
      "text/plain": [
       "['Front', 'Back']"
      ]
     },
     "metadata": {},
     "output_type": "display_data"
    }
   ],
   "source": [
    "result = anki_invoke('modelFieldNames', modelName='Basic')\n",
    "display(result)"
   ]
  },
  {
   "cell_type": "code",
   "execution_count": 25,
   "metadata": {},
   "outputs": [],
   "source": [
    "note = {\n",
    "    'deckName': 'Testing',\n",
    "    'modelName': 'Basic',\n",
    "    'fields': {\n",
    "        'Front': 'front content',\n",
    "        'Back': 'back content'\n",
    "    },\n",
    "    'options': { 'allowDuplicate': False },\n",
    "    'tags': [],\n",
    "}"
   ]
  },
  {
   "cell_type": "code",
   "execution_count": 26,
   "metadata": {},
   "outputs": [
    {
     "data": {
      "text/plain": [
       "1560017298072"
      ]
     },
     "metadata": {},
     "output_type": "display_data"
    }
   ],
   "source": [
    "result = anki_invoke('addNote', note=note)\n",
    "display(result)"
   ]
  },
  {
   "cell_type": "code",
   "execution_count": null,
   "metadata": {},
   "outputs": [],
   "source": []
  },
  {
   "cell_type": "code",
   "execution_count": 22,
   "metadata": {},
   "outputs": [],
   "source": [
    "note = {\n",
    "    'deckName': 'Testing',\n",
    "    'modelName': 'Basic',\n",
    "    'fields': {\n",
    "        'Front': head,\n",
    "        'Back': body\n",
    "    },\n",
    "    'options': { 'allowDuplicate': False },\n",
    "    'tags': [],\n",
    "}"
   ]
  },
  {
   "cell_type": "code",
   "execution_count": 23,
   "metadata": {},
   "outputs": [
    {
     "data": {
      "text/plain": [
       "1560017138947"
      ]
     },
     "metadata": {},
     "output_type": "display_data"
    }
   ],
   "source": [
    "result = anki_invoke('addNote', note=note)\n",
    "display(result)"
   ]
  },
  {
   "cell_type": "code",
   "execution_count": null,
   "metadata": {},
   "outputs": [],
   "source": []
  }
 ],
 "metadata": {
  "kernelspec": {
   "display_name": "Python [conda env:mbrain]",
   "language": "python",
   "name": "conda-env-mbrain-py"
  },
  "language_info": {
   "codemirror_mode": {
    "name": "ipython",
    "version": 3
   },
   "file_extension": ".py",
   "mimetype": "text/x-python",
   "name": "python",
   "nbconvert_exporter": "python",
   "pygments_lexer": "ipython3",
   "version": "3.7.3"
  }
 },
 "nbformat": 4,
 "nbformat_minor": 2
}
